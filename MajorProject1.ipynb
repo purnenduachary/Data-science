{
  "nbformat": 4,
  "nbformat_minor": 0,
  "metadata": {
    "colab": {
      "provenance": [],
      "authorship_tag": "ABX9TyPwFzFFCBd+UBj/Qx2/ElEd",
      "include_colab_link": true
    },
    "kernelspec": {
      "name": "python3",
      "display_name": "Python 3"
    },
    "language_info": {
      "name": "python"
    }
  },
  "cells": [
    {
      "cell_type": "markdown",
      "metadata": {
        "id": "view-in-github",
        "colab_type": "text"
      },
      "source": [
        "<a href=\"https://colab.research.google.com/github/purnendux95/purnendu/blob/main/MajorProject1.ipynb\" target=\"_parent\"><img src=\"https://colab.research.google.com/assets/colab-badge.svg\" alt=\"Open In Colab\"/></a>"
      ]
    },
    {
      "cell_type": "code",
      "execution_count": null,
      "metadata": {
        "id": "8GWmY4r_U7jl"
      },
      "outputs": [],
      "source": [
        "#MAJOR PROJECT 1\n",
        "#Name:PURNENDU SHEKHAR ACHARY\n",
        "#REGRESSION - LINEAR REGRESSION\n",
        "#Univariate/Single - 1 column as input , 1  column as output\n",
        "#Dataset - '/content/Social_Network_Ads.csv'\n",
        "#User ID  , Salary in rupees"
      ]
    },
    {
      "cell_type": "code",
      "source": [
        "import pandas as pd\n",
        "df = pd.read_csv('/content/Social_Network_income.csv')\n",
        "df"
      ],
      "metadata": {
        "colab": {
          "base_uri": "https://localhost:8080/",
          "height": 363
        },
        "id": "cRlqWt7rVKzg",
        "outputId": "d9fd77a5-2e65-4854-b93e-fd3765fe2897"
      },
      "execution_count": null,
      "outputs": [
        {
          "output_type": "execute_result",
          "data": {
            "text/plain": [
              "    User ID  Salary\n",
              "0  15598044   19000\n",
              "1  15600575   25000\n",
              "2  15603246   33000\n",
              "3  15624510   43000\n",
              "4  15668575   57000\n",
              "5  15694829   58000\n",
              "6  15727311   65000\n",
              "7  15728773   76000\n",
              "8  15804002   84000\n",
              "9  15810944  100000"
            ],
            "text/html": [
              "\n",
              "  <div id=\"df-8e47b28d-a8b7-450f-80e4-f5f67d35e3a2\">\n",
              "    <div class=\"colab-df-container\">\n",
              "      <div>\n",
              "<style scoped>\n",
              "    .dataframe tbody tr th:only-of-type {\n",
              "        vertical-align: middle;\n",
              "    }\n",
              "\n",
              "    .dataframe tbody tr th {\n",
              "        vertical-align: top;\n",
              "    }\n",
              "\n",
              "    .dataframe thead th {\n",
              "        text-align: right;\n",
              "    }\n",
              "</style>\n",
              "<table border=\"1\" class=\"dataframe\">\n",
              "  <thead>\n",
              "    <tr style=\"text-align: right;\">\n",
              "      <th></th>\n",
              "      <th>User ID</th>\n",
              "      <th>Salary</th>\n",
              "    </tr>\n",
              "  </thead>\n",
              "  <tbody>\n",
              "    <tr>\n",
              "      <th>0</th>\n",
              "      <td>15598044</td>\n",
              "      <td>19000</td>\n",
              "    </tr>\n",
              "    <tr>\n",
              "      <th>1</th>\n",
              "      <td>15600575</td>\n",
              "      <td>25000</td>\n",
              "    </tr>\n",
              "    <tr>\n",
              "      <th>2</th>\n",
              "      <td>15603246</td>\n",
              "      <td>33000</td>\n",
              "    </tr>\n",
              "    <tr>\n",
              "      <th>3</th>\n",
              "      <td>15624510</td>\n",
              "      <td>43000</td>\n",
              "    </tr>\n",
              "    <tr>\n",
              "      <th>4</th>\n",
              "      <td>15668575</td>\n",
              "      <td>57000</td>\n",
              "    </tr>\n",
              "    <tr>\n",
              "      <th>5</th>\n",
              "      <td>15694829</td>\n",
              "      <td>58000</td>\n",
              "    </tr>\n",
              "    <tr>\n",
              "      <th>6</th>\n",
              "      <td>15727311</td>\n",
              "      <td>65000</td>\n",
              "    </tr>\n",
              "    <tr>\n",
              "      <th>7</th>\n",
              "      <td>15728773</td>\n",
              "      <td>76000</td>\n",
              "    </tr>\n",
              "    <tr>\n",
              "      <th>8</th>\n",
              "      <td>15804002</td>\n",
              "      <td>84000</td>\n",
              "    </tr>\n",
              "    <tr>\n",
              "      <th>9</th>\n",
              "      <td>15810944</td>\n",
              "      <td>100000</td>\n",
              "    </tr>\n",
              "  </tbody>\n",
              "</table>\n",
              "</div>\n",
              "      <button class=\"colab-df-convert\" onclick=\"convertToInteractive('df-8e47b28d-a8b7-450f-80e4-f5f67d35e3a2')\"\n",
              "              title=\"Convert this dataframe to an interactive table.\"\n",
              "              style=\"display:none;\">\n",
              "        \n",
              "  <svg xmlns=\"http://www.w3.org/2000/svg\" height=\"24px\"viewBox=\"0 0 24 24\"\n",
              "       width=\"24px\">\n",
              "    <path d=\"M0 0h24v24H0V0z\" fill=\"none\"/>\n",
              "    <path d=\"M18.56 5.44l.94 2.06.94-2.06 2.06-.94-2.06-.94-.94-2.06-.94 2.06-2.06.94zm-11 1L8.5 8.5l.94-2.06 2.06-.94-2.06-.94L8.5 2.5l-.94 2.06-2.06.94zm10 10l.94 2.06.94-2.06 2.06-.94-2.06-.94-.94-2.06-.94 2.06-2.06.94z\"/><path d=\"M17.41 7.96l-1.37-1.37c-.4-.4-.92-.59-1.43-.59-.52 0-1.04.2-1.43.59L10.3 9.45l-7.72 7.72c-.78.78-.78 2.05 0 2.83L4 21.41c.39.39.9.59 1.41.59.51 0 1.02-.2 1.41-.59l7.78-7.78 2.81-2.81c.8-.78.8-2.07 0-2.86zM5.41 20L4 18.59l7.72-7.72 1.47 1.35L5.41 20z\"/>\n",
              "  </svg>\n",
              "      </button>\n",
              "      \n",
              "  <style>\n",
              "    .colab-df-container {\n",
              "      display:flex;\n",
              "      flex-wrap:wrap;\n",
              "      gap: 12px;\n",
              "    }\n",
              "\n",
              "    .colab-df-convert {\n",
              "      background-color: #E8F0FE;\n",
              "      border: none;\n",
              "      border-radius: 50%;\n",
              "      cursor: pointer;\n",
              "      display: none;\n",
              "      fill: #1967D2;\n",
              "      height: 32px;\n",
              "      padding: 0 0 0 0;\n",
              "      width: 32px;\n",
              "    }\n",
              "\n",
              "    .colab-df-convert:hover {\n",
              "      background-color: #E2EBFA;\n",
              "      box-shadow: 0px 1px 2px rgba(60, 64, 67, 0.3), 0px 1px 3px 1px rgba(60, 64, 67, 0.15);\n",
              "      fill: #174EA6;\n",
              "    }\n",
              "\n",
              "    [theme=dark] .colab-df-convert {\n",
              "      background-color: #3B4455;\n",
              "      fill: #D2E3FC;\n",
              "    }\n",
              "\n",
              "    [theme=dark] .colab-df-convert:hover {\n",
              "      background-color: #434B5C;\n",
              "      box-shadow: 0px 1px 3px 1px rgba(0, 0, 0, 0.15);\n",
              "      filter: drop-shadow(0px 1px 2px rgba(0, 0, 0, 0.3));\n",
              "      fill: #FFFFFF;\n",
              "    }\n",
              "  </style>\n",
              "\n",
              "      <script>\n",
              "        const buttonEl =\n",
              "          document.querySelector('#df-8e47b28d-a8b7-450f-80e4-f5f67d35e3a2 button.colab-df-convert');\n",
              "        buttonEl.style.display =\n",
              "          google.colab.kernel.accessAllowed ? 'block' : 'none';\n",
              "\n",
              "        async function convertToInteractive(key) {\n",
              "          const element = document.querySelector('#df-8e47b28d-a8b7-450f-80e4-f5f67d35e3a2');\n",
              "          const dataTable =\n",
              "            await google.colab.kernel.invokeFunction('convertToInteractive',\n",
              "                                                     [key], {});\n",
              "          if (!dataTable) return;\n",
              "\n",
              "          const docLinkHtml = 'Like what you see? Visit the ' +\n",
              "            '<a target=\"_blank\" href=https://colab.research.google.com/notebooks/data_table.ipynb>data table notebook</a>'\n",
              "            + ' to learn more about interactive tables.';\n",
              "          element.innerHTML = '';\n",
              "          dataTable['output_type'] = 'display_data';\n",
              "          await google.colab.output.renderOutput(dataTable, element);\n",
              "          const docLink = document.createElement('div');\n",
              "          docLink.innerHTML = docLinkHtml;\n",
              "          element.appendChild(docLink);\n",
              "        }\n",
              "      </script>\n",
              "    </div>\n",
              "  </div>\n",
              "  "
            ]
          },
          "metadata": {},
          "execution_count": 2
        }
      ]
    },
    {
      "cell_type": "code",
      "source": [
        "#3.DATA VISUALISATION - CREATION of GRAPHS\n",
        "import matplotlib.pyplot as plt\n",
        "#plt.scatter(x-axis,y-axis)\n",
        "plt.scatter(df['User ID'],df['Salary'])\n",
        "plt.title('User ID' 'vs' 'Salary')\n",
        "plt.xlabel('User ID')\n",
        "plt.ylabel('Salary')"
      ],
      "metadata": {
        "colab": {
          "base_uri": "https://localhost:8080/",
          "height": 312
        },
        "id": "59YHeHMMVQAt",
        "outputId": "4a0794bb-5d76-44e4-a143-14cfd38e2fe9"
      },
      "execution_count": null,
      "outputs": [
        {
          "output_type": "execute_result",
          "data": {
            "text/plain": [
              "Text(0, 0.5, 'Salary')"
            ]
          },
          "metadata": {},
          "execution_count": 3
        },
        {
          "output_type": "display_data",
          "data": {
            "text/plain": [
              "<Figure size 432x288 with 1 Axes>"
            ],
            "image/png": "[encoded data removed]"
          },
          "metadata": {
            "needs_background": "light"
          }
        }
      ]
    },
    {
      "cell_type": "code",
      "source": [
        "#INPUT(x) - User ID\n",
        "#OUTPUT - Salary\n",
        "#4.DIVIDE THE DATA INTO INPUT and OUTPUT\n",
        "#INPUT(x) is always 2 dimensional,OUTPUT(y) is always 1 dimensional array\n",
        "#df.iloc[row slicing,column slicing]\n",
        "#In df.iloc ,if the column's place has a ':',then array is 2 dimensional\n",
        "x = df.iloc[0:10,0:1].values\n",
        "x\n",
        "#.values converts the dataframe into an array"
      ],
      "metadata": {
        "colab": {
          "base_uri": "https://localhost:8080/"
        },
        "id": "mOvPMQRqVSUy",
        "outputId": "b88bf3ef-8e7e-464f-e37b-d45a4b59d32a"
      },
      "execution_count": null,
      "outputs": [
        {
          "output_type": "execute_result",
          "data": {
            "text/plain": [
              "array([[15598044],\n",
              "       [15600575],\n",
              "       [15603246],\n",
              "       [15624510],\n",
              "       [15668575],\n",
              "       [15694829],\n",
              "       [15727311],\n",
              "       [15728773],\n",
              "       [15804002],\n",
              "       [15810944]])"
            ]
          },
          "metadata": {},
          "execution_count": 4
        }
      ]
    },
    {
      "cell_type": "code",
      "source": [
        "#In df.iloc ,if the column's place does not  has a ':',then array is 1 dimensiona\n",
        "y = df.iloc[0:10,1].values #df.iloc[:,1].values\n",
        "#If I want to select all rows or all cols , I can write only :\n",
        "y"
      ],
      "metadata": {
        "colab": {
          "base_uri": "https://localhost:8080/"
        },
        "id": "okyPg9oGVY5c",
        "outputId": "e0d6cf83-ed4a-4c6d-ce4d-f0f0a5491fde"
      },
      "execution_count": null,
      "outputs": [
        {
          "output_type": "execute_result",
          "data": {
            "text/plain": [
              "array([ 19000,  25000,  33000,  43000,  57000,  58000,  65000,  76000,\n",
              "        84000, 100000])"
            ]
          },
          "metadata": {},
          "execution_count": 5
        }
      ]
    },
    {
      "cell_type": "code",
      "source": [
        "#5.TRAIN and TEST VARIABLES \n",
        "#Here we are not performing step no 5 , due to limited data"
      ],
      "metadata": {
        "id": "0VyZZptQVcPx"
      },
      "execution_count": null,
      "outputs": []
    },
    {
      "cell_type": "code",
      "source": [
        "#6  Normalization or scaling is only done for multivariate datasets\n",
        "#Here for univeriate data, step no 6 is not required"
      ],
      "metadata": {
        "id": "mybjZQcgVeei"
      },
      "execution_count": null,
      "outputs": []
    },
    {
      "cell_type": "code",
      "source": [
        "#7 Run classifiers, REGRESSOR or cluster(applying a suitable algoritm)\n",
        "from sklearn.linear_model import LinearRegression\n",
        "model = LinearRegression()"
      ],
      "metadata": {
        "id": "qWpdWHKFVgtH"
      },
      "execution_count": null,
      "outputs": []
    },
    {
      "cell_type": "code",
      "source": [
        "#8 fit the model(mapping or plotting the inputs whith the output with the library)\n",
        "model.fit(x,y) "
      ],
      "metadata": {
        "colab": {
          "base_uri": "https://localhost:8080/"
        },
        "id": "-AmpebE0VikV",
        "outputId": "a40a0fac-0d39-4aaf-e337-26e7bc0b8c5c"
      },
      "execution_count": null,
      "outputs": [
        {
          "output_type": "execute_result",
          "data": {
            "text/plain": [
              "LinearRegression()"
            ]
          },
          "metadata": {},
          "execution_count": 9
        }
      ]
    },
    {
      "cell_type": "code",
      "source": [
        "#Predict the output \n",
        "y_pred = model.predict(x) #using the input values, we predict the output\n",
        "y_pred"
      ],
      "metadata": {
        "colab": {
          "base_uri": "https://localhost:8080/"
        },
        "id": "OZjR4wp_Vk60",
        "outputId": "0d032e46-3b2e-48be-fc82-50dec8799250"
      },
      "execution_count": null,
      "outputs": [
        {
          "output_type": "execute_result",
          "data": {
            "text/plain": [
              "array([28249.33485198, 29047.14728619, 29889.09000124, 36591.84922729,\n",
              "       50481.85511967, 58757.54364115, 68996.39922714, 69457.24544556,\n",
              "       93170.65185151, 95358.88334828])"
            ]
          },
          "metadata": {},
          "execution_count": 10
        }
      ]
    },
    {
      "cell_type": "code",
      "source": [
        "y #Actual output values"
      ],
      "metadata": {
        "colab": {
          "base_uri": "https://localhost:8080/"
        },
        "id": "BihT6W9CVnCb",
        "outputId": "0f4592bf-069c-48a1-a337-2364049b459c"
      },
      "execution_count": null,
      "outputs": [
        {
          "output_type": "execute_result",
          "data": {
            "text/plain": [
              "array([ 19000,  25000,  33000,  43000,  57000,  58000,  65000,  76000,\n",
              "        84000, 100000])"
            ]
          },
          "metadata": {},
          "execution_count": 11
        }
      ]
    },
    {
      "cell_type": "code",
      "source": [
        "#CONCLUSION \n",
        "#when we compare we come to know there is huge difference \n",
        "#This huge difference doesn't mean that our model has predicted wrong \n",
        "#It only mean, that our model has not linear/less linear\n",
        "#linearity of a model depends on the nature of the data as well as the size of the data"
      ],
      "metadata": {
        "id": "yAknv0yBVosC"
      },
      "execution_count": null,
      "outputs": []
    },
    {
      "cell_type": "code",
      "source": [
        "#INDIVISUAL PREDICTION \n",
        "#I wanna know the Salary of user id 15603246\n",
        "model.predict([[15603246]])"
      ],
      "metadata": {
        "colab": {
          "base_uri": "https://localhost:8080/"
        },
        "id": "Mgw4YhRCVrMi",
        "outputId": "3d1e8d88-008e-428f-e580-bbc0dff8db36"
      },
      "execution_count": null,
      "outputs": [
        {
          "output_type": "execute_result",
          "data": {
            "text/plain": [
              "array([29889.09000124])"
            ]
          },
          "metadata": {},
          "execution_count": 13
        }
      ]
    },
    {
      "cell_type": "code",
      "source": [
        "#cross verification\n",
        "#y = mx+c i.e the eq of a straight line\n",
        "#m - slope\n",
        "#c - constant or y intercept\n",
        "#y - tangent/dependent variable\n",
        "#x - independent variable\n",
        "\n",
        "#From excel m = 0.31521629, C = -6654033.337384926"
      ],
      "metadata": {
        "id": "W5O55CFsVuFt"
      },
      "execution_count": null,
      "outputs": []
    },
    {
      "cell_type": "code",
      "source": [
        "m = model.coef_\n",
        "m"
      ],
      "metadata": {
        "colab": {
          "base_uri": "https://localhost:8080/"
        },
        "id": "dVmZcz3rVxRJ",
        "outputId": "141517d6-40c4-4138-b17c-172bba0aa776"
      },
      "execution_count": null,
      "outputs": [
        {
          "output_type": "execute_result",
          "data": {
            "text/plain": [
              "array([0.31521629])"
            ]
          },
          "metadata": {},
          "execution_count": 15
        }
      ]
    },
    {
      "cell_type": "code",
      "source": [
        "C= model.intercept_\n",
        "C"
      ],
      "metadata": {
        "colab": {
          "base_uri": "https://localhost:8080/"
        },
        "id": "2YRgGkAuVyw6",
        "outputId": "b1ad8457-6f9f-4070-a05c-fa58c8c9b00b"
      },
      "execution_count": null,
      "outputs": [
        {
          "output_type": "execute_result",
          "data": {
            "text/plain": [
              "-4888508.252115728"
            ]
          },
          "metadata": {},
          "execution_count": 16
        }
      ]
    },
    {
      "cell_type": "code",
      "source": [
        "#y=mx+c\n",
        "m*15603246 + C"
      ],
      "metadata": {
        "colab": {
          "base_uri": "https://localhost:8080/"
        },
        "id": "e7CCm9ZlV1ku",
        "outputId": "b4f8e866-de88-4e32-950c-407f0da306eb"
      },
      "execution_count": null,
      "outputs": [
        {
          "output_type": "execute_result",
          "data": {
            "text/plain": [
              "array([29889.09000124])"
            ]
          },
          "metadata": {},
          "execution_count": 17
        }
      ]
    },
    {
      "cell_type": "code",
      "source": [
        "plt.scatter(x,y)Sss\n",
        "plt.plot(x,y_pred,c = 'Orange')\n",
        "plt.title('Salary of User')\n",
        "plt.xlabel('User ID')\n",
        "plt.ylabel('Salary')"
      ],
      "metadata": {
        "colab": {
          "base_uri": "https://localhost:8080/",
          "height": 312
        },
        "id": "qPRhsx-KV3aY",
        "outputId": "a0e8f0e7-52eb-446f-b4cf-829d9402d69b"
      },
      "execution_count": null,
      "outputs": [
        {
          "output_type": "execute_result",
          "data": {
            "text/plain": [
              "Text(0, 0.5, 'Salary')"
            ]
          },
          "metadata": {},
          "execution_count": 18
        },
        {
          "output_type": "display_data",
          "data": {
            "text/plain": [
              "<Figure size 432x288 with 1 Axes>"
            ],
            "image/png": "[encoded data removed]"
          },
          "metadata": {
            "needs_background": "light"
          }
        }
      ]
    },
    {
      "cell_type": "code",
      "source": [],
      "metadata": {
        "id": "0S2T5euvV5as"
      },
      "execution_count": null,
      "outputs": []
    }
  ]
}